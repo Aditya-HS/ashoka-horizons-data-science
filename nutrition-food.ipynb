{
 "cells": [
  {
   "cell_type": "code",
   "execution_count": 70,
   "metadata": {},
   "outputs": [],
   "source": [
    "import pandas as pd\n",
    "import seaborn as sns\n",
    "import matplotlib.pyplot as plt"
   ]
  },
  {
   "cell_type": "code",
   "execution_count": 71,
   "metadata": {},
   "outputs": [
    {
     "name": "stdout",
     "output_type": "stream",
     "text": [
      "Number of columns:  6\n",
      "Number of rows:  113\n",
      "For column  Unnamed: 0 , unique enteries  are as follows:  ['Chonga Bagel' '8-Grain Roll' 'Almond Croissant' 'Apple Fritter'\n",
      " 'Banana Nut Bread' 'Blueberry Muffin with Yogurt and Honey'\n",
      " 'Blueberry Scone' 'Butter Croissant' 'Butterfly Cookie' 'Cheese Danish'\n",
      " 'Chewy Chocolate Cookie' 'Chocolate Chip Cookie' 'Chocolate Chunk Muffin'\n",
      " 'Chocolate Croissant' 'Chocolate Hazelnut Croissant'\n",
      " 'Chocolate Marble Loaf Cake' 'Cinnamon Morning Bun'\n",
      " 'Cinnamon Raisin Bagel' 'Classic Coffee Cake' 'Cookie Butter Bar'\n",
      " 'Cranberry Orange Scone' \"Devil's Food Doughnut\"\n",
      " 'Double Chocolate Brownie' 'Double Chocolate Chunk Brownie'\n",
      " 'Double Chocolate Loaf Cake'\n",
      " \"Everybody's Favorite - Bantam Bagel (2 Pack)\"\n",
      " 'Everything Bagel with Cheese' 'Frappuccino® Cookie Straw'\n",
      " 'French Toast - Bantam Bagels (2 Pack)'\n",
      " 'Gluten-Free Marshmallow Dream Bar' 'Ice Cream Cone Sugar Cookie'\n",
      " 'Iced Lemon Pound Cake' 'Michigan Cherry Oat Bar' 'Multigrain Bagel'\n",
      " 'Oatmeal Cookie' 'Octopus Cookie' 'Old-Fashioned Glazed Doughnut'\n",
      " 'Peanut butter cup cookie' 'Pecan Tart' 'Petite Vanilla Bean Scone'\n",
      " 'Plain Bagel' 'Pumpkin Bread' 'Raspberry Swirl Loaf Cake'\n",
      " 'Raspberry Whoopie Pie' 'Reduced-Fat Cinnamon Swirl Coffee Cake'\n",
      " \"S'mores Bar\" \"S'mores Bar Multipack\" 'Sprouted Grain Vegan Bagel'\n",
      " 'Strawberry Cake Pop' 'The Classic - Bantam Bagels (2 Pack)'\n",
      " 'Toffeedoodle' 'Vanilla Bean Whoopie Pie' 'Vermont Maple Walnut Muffin'\n",
      " 'Volpi™ Pepperoni & Tomato Savory Foldover' 'Strawberries & Jam Sandwich'\n",
      " 'Burrata & Basil Pesto Small Sandwich'\n",
      " 'Cage-Free Eggs & Seasoned Grains Side Salad'\n",
      " 'Cauliflower Tabbouleh Side Salad' 'Cubano Sandwich'\n",
      " \"Farmers' Market Protein Box\"\n",
      " 'Garden Greens & Shaved Parmesan Side Salad'\n",
      " 'Green Goddess Avocado Salad'\n",
      " 'Herbed Chicken & Fig Spread Small Sandwich'\n",
      " 'Honey BBQ Sriracha Chicken Sandwich' 'Roasted Carrot & Kale Side Salad'\n",
      " 'Roasted Turkey & Dill Havarti Sandwich'\n",
      " 'Seared Steak & Cheddar Sandwich'\n",
      " \"Slow-Roasted Ham & Beecher's Flagship Cheese Small Sandwich\"\n",
      " 'Smoked Mozzarella & Roasted Pepper Sandwich'\n",
      " 'Turkey & Fire-Roasted Corn Salad' \"Za'atar Chicken & Lemon Tahini Salad\"\n",
      " 'BBQ Chicken Protein Box' 'Cheese & Fruit Protein Box'\n",
      " 'Chicken Wrap Protein Box' 'Eggs & Cheese Protein Box' 'PB&J Protein Box'\n",
      " 'Smoked Turkey Protein Box' 'Birthday Cake Pop' 'Chocolate Cake Pop'\n",
      " 'Chocolate Chip Cookie Dough Cake Pop' 'Pirate Cake Pop'\n",
      " 'Bacon Gouda & Egg Breakfast Sandwich'\n",
      " 'Certified Gluten-Free Breakfast Sandwich' 'Classic Whole-Grain Oatmeal'\n",
      " 'Double-Smoked Bacon Cheddar & Egg Sandwich' 'Ham & Cheese Croissant'\n",
      " 'Hearty Blueberry Oatmeal'\n",
      " 'Reduced-Fat Turkey Bacon & Cage Free Egg White Breakfast Sandwich'\n",
      " 'Sausage Cheddar & Egg Breakfast Sandwich'\n",
      " 'Seared Steak Egg & Tomatillo Wrap'\n",
      " 'Slow-Roasted Ham Swiss & Egg Breakfast Sandwich'\n",
      " 'Sous Vide Egg Bites: Bacon & Gruyere'\n",
      " 'Sous Vide Egg Bites: Egg White & Red Pepper'\n",
      " 'Spicy Chorizo  Monterey Jack & Egg Breakfast Sandwich'\n",
      " 'Spinach Feta & Cage Free Egg White Breakfast Wrap'\n",
      " 'Ancho Chipotle Chicken Panini '\n",
      " 'Chicken & Quinoa Protein Bowl with Black Beans and Greens'\n",
      " 'Chicken Artichoke on Ancient Grain Flatbread'\n",
      " 'Chicken BLT Salad Sandwich' 'Egg Salad Sandwich'\n",
      " 'Homestyle Chicken & Double-Smoked Bacon'\n",
      " 'Italian-Style Ham & Spicy Salami'\n",
      " 'Lentils & Vegetable Protein Bowl with Brown Rice'\n",
      " 'Roasted Tomato & Mozzarella Panini' 'Turkey & Havarti Sandwich'\n",
      " 'Turkey Pesto Panini' 'Berry Trio Yogurt'\n",
      " 'Fresh Blueberries and Honey Greek Yogurt Parfait'\n",
      " \"Justin's Chocolate Hazelnut Butter\" \"Justin's Classic Almond Butter\"\n",
      " 'Lemon Chiffon Yogurt' 'Organic Avocado (Spread)' 'Seasonal Fruit Blend']\n",
      "For column  Unnamed: 0 , number of unique enteries are:  113\n",
      "For column   Calories , unique enteries  are as follows:  [300 380 410 460 420 240 350 320 170 310 440 330 390 490 270 360 430 100\n",
      " 290  90 200 250 470 480 120 280 370 180 600 130 620 530 500 560 570 450\n",
      " 520 160 220 230 510 650 190 340]\n",
      "For column   Calories , number of unique enteries are:  44\n",
      "For column   Fat (g) , unique enteries  are as follows:  [ 5.   6.  22.  23.  16.  17.  12.  15.  21.  18.  24.   1.  28.   3.5\n",
      "  3.   8.  14.  20.  10.   4.  27.   4.5  1.5  9.  13.  25.  29.  37.\n",
      "  7.  26.  32.  19.   2.5 30.   0. ]\n",
      "For column   Fat (g) , number of unique enteries are:  35\n",
      "For column   Carb. (g) , unique enteries  are as follows:  [50 70 45 56 52 53 61 28 38 36 30 42 60 43 64 58 57 46 55 54 14 29 68 47\n",
      " 40 39 18 63 67 44 23 27 80 34 33  7  9 62 31 49 24 32 41 13 35 37 12  6\n",
      "  5]\n",
      "For column   Carb. (g) , number of unique enteries are:  49\n",
      "For column   Fiber (g) , unique enteries  are as follows:  [ 3  7  2  1  0  8 10  4  6 11  5  9 21]\n",
      "For column   Fiber (g) , number of unique enteries are:  13\n",
      "For column   Protein (g) , unique enteries  are as follows:  [12 10  7  6  5  2  8  4  9  3 11  1 17 19 21 13 22 32 23 16 18 24 27 20\n",
      " 14 15 26 29 34]\n",
      "For column   Protein (g) , number of unique enteries are:  29\n"
     ]
    }
   ],
   "source": [
    "df = pd.read_csv('nutrition-food.csv', encoding='UTF-16')\n",
    "df.head()\n",
    "df.tail()\n",
    "num_rows, num_cols = df.shape\n",
    "print(\"Number of columns: \", num_cols)\n",
    "print(\"Number of rows: \", num_rows)\n",
    "for i in df.columns:\n",
    "    unique = df[i].unique()\n",
    "    num_unique = df[i].nunique()\n",
    "    print(\"For column \",i,\", unique enteries  are as follows: \", unique)\n",
    "    print(\"For column \",i,\", number of unique enteries are: \", num_unique)"
   ]
  },
  {
   "cell_type": "code",
   "execution_count": 72,
   "metadata": {},
   "outputs": [
    {
     "data": {
      "text/plain": [
       "Unnamed: 0       object\n",
       " Calories         int64\n",
       " Fat (g)        float64\n",
       " Carb. (g)        int64\n",
       " Fiber (g)        int64\n",
       " Protein (g)      int64\n",
       "dtype: object"
      ]
     },
     "execution_count": 72,
     "metadata": {},
     "output_type": "execute_result"
    }
   ],
   "source": [
    "df.dtypes"
   ]
  },
  {
   "cell_type": "code",
   "execution_count": 73,
   "metadata": {},
   "outputs": [
    {
     "name": "stdout",
     "output_type": "stream",
     "text": [
      "                             Unnamed: 0   Calories   Fat (g)   Carb. (g)  \\\n",
      "0                          Chonga Bagel        300       5.0          50   \n",
      "1                          8-Grain Roll        380       6.0          70   \n",
      "2                      Almond Croissant        410      22.0          45   \n",
      "3                         Apple Fritter        460      23.0          56   \n",
      "4                      Banana Nut Bread        420      22.0          52   \n",
      "..                                  ...        ...       ...         ...   \n",
      "108  Justin's Chocolate Hazelnut Butter        180      14.0          12   \n",
      "109      Justin's Classic Almond Butter        190      18.0           6   \n",
      "110                Lemon Chiffon Yogurt        340      13.0          38   \n",
      "111            Organic Avocado (Spread)         90       8.0           5   \n",
      "112                Seasonal Fruit Blend         90       0.0          24   \n",
      "\n",
      "      Fiber (g)   Protein (g)  \n",
      "0             3            12  \n",
      "1             7            10  \n",
      "2             3            10  \n",
      "3             2             7  \n",
      "4             2             6  \n",
      "..          ...           ...  \n",
      "108           3             4  \n",
      "109           3             7  \n",
      "110           0            18  \n",
      "111           4             1  \n",
      "112           4             1  \n",
      "\n",
      "[113 rows x 6 columns]\n"
     ]
    }
   ],
   "source": [
    "null_count = df.isnull().sum()\n",
    "df_new = df.dropna()\n",
    "print(df_new)"
   ]
  },
  {
   "cell_type": "code",
   "execution_count": 74,
   "metadata": {},
   "outputs": [
    {
     "name": "stdout",
     "output_type": "stream",
     "text": [
      "Index(['Unnamed: 0', ' Calories', ' Fat (g)', ' Carb. (g)', ' Fiber (g)',\n",
      "       ' Protein (g)'],\n",
      "      dtype='object')\n",
      "Index(['Calories (kcal)', 'Total Fat (g)', 'Carbohydrates (g)',\n",
      "       ' Protein (g)'],\n",
      "      dtype='object')\n"
     ]
    }
   ],
   "source": [
    "print(df_new.columns)\n",
    "df_new = df_new.rename(columns={\n",
    "    ' Calories': 'Calories (kcal)',\n",
    "    ' Carb. (g)': 'Carbohydrates (g)',\n",
    "    ' Fat (g)': 'Total Fat (g)'\n",
    "})\n",
    "df_new = df_new.drop(columns=['Unnamed: 0', ' Fiber (g)'])\n",
    "print(df_new.columns)"
   ]
  },
  {
   "cell_type": "code",
   "execution_count": 75,
   "metadata": {},
   "outputs": [
    {
     "name": "stdout",
     "output_type": "stream",
     "text": [
      "Minimum values for each numerical column:\n",
      "Calories       90.0\n",
      "Fat (g)         0.0\n",
      "Carb. (g)       5.0\n",
      "Fiber (g)       0.0\n",
      "Protein (g)     1.0\n",
      "dtype: float64\n",
      "Maximum values for each numerical column:\n",
      "Calories       650.0\n",
      "Fat (g)         37.0\n",
      "Carb. (g)       80.0\n",
      "Fiber (g)       21.0\n",
      "Protein (g)     34.0\n",
      "dtype: float64\n",
      "Mean values for each numerical column:\n",
      "Calories       356.637168\n",
      "Fat (g)         16.353982\n",
      "Carb. (g)       41.486726\n",
      "Fiber (g)        2.849558\n",
      "Protein (g)     11.469027\n",
      "dtype: float64\n",
      "Standard deviation for each numerical column:\n",
      "Calories       127.710685\n",
      "Fat (g)          8.297397\n",
      "Carb. (g)       15.796764\n",
      "Fiber (g)        2.888466\n",
      "Protein (g)      8.463230\n",
      "dtype: float64\n",
      "Variance for each numerical column:\n",
      "Calories       16310.018963\n",
      "Fat (g)           68.846792\n",
      "Carb. (g)        249.537769\n",
      "Fiber (g)          8.343236\n",
      "Protein (g)       71.626264\n",
      "dtype: float64\n",
      "Sum for each numerical column:\n",
      "Calories       40300.0\n",
      "Fat (g)         1848.0\n",
      "Carb. (g)       4688.0\n",
      "Fiber (g)        322.0\n",
      "Protein (g)     1296.0\n",
      "dtype: float64\n"
     ]
    }
   ],
   "source": [
    "numerical_columns = []\n",
    "for column in df.columns:\n",
    "    if df[column].dtype in ['int64', 'float64']:\n",
    "        numerical_columns.append(column)\n",
    "numerical_df = df[numerical_columns]\n",
    "min = numerical_df.min()\n",
    "max = numerical_df.max()\n",
    "mean = numerical_df.mean()\n",
    "std = numerical_df.std()\n",
    "var = numerical_df.var()\n",
    "sum = numerical_df.sum()\n",
    "print(\"Minimum values for each numerical column:\")\n",
    "print(min)\n",
    "print(\"Maximum values for each numerical column:\")\n",
    "print(max)\n",
    "print(\"Mean values for each numerical column:\")\n",
    "print(mean)\n",
    "print(\"Standard deviation for each numerical column:\")\n",
    "print(std)\n",
    "print(\"Variance for each numerical column:\")\n",
    "print(var)\n",
    "print(\"Sum for each numerical column:\")\n",
    "print(sum)"
   ]
  },
  {
   "cell_type": "code",
   "execution_count": 76,
   "metadata": {},
   "outputs": [
    {
     "name": "stdout",
     "output_type": "stream",
     "text": [
      "Subset 1:\n",
      "     Calories (kcal)  Total Fat (g)  Carbohydrates (g)   Protein (g)\n",
      "57               130           12.0                  7             2\n",
      "68               500           28.0                 46            18\n",
      "14               390           22.0                 43             7\n",
      "21               430           23.0                 53             5\n",
      "31               470           20.0                 68             6\n",
      "38               330           18.0                 39             4\n",
      "93               500           30.0                 35            26\n",
      "12               440           21.0                 60             7\n",
      "72               450           27.0                 34            20\n",
      "29               240            5.0                 45             2\n",
      "45               330           17.0                 44             2\n",
      "105              560           23.0                 55            34\n",
      "1                380            6.0                 70            10\n",
      "17               270            1.0                 58             9\n",
      "35               330           18.0                 39             3\n",
      "95               500           19.0                 57            26\n",
      "32               310           10.0                 47             3\n",
      "50               300           13.0                 44             3\n",
      "77               170            9.0                 23             1\n",
      "97               510           27.0                 37            24\n",
      "92               170            7.0                 13            13\n",
      "55               300           14.0                 34            11\n",
      "20               420           15.0                 64             6\n",
      "2                410           22.0                 45            10\n",
      "84               490           27.0                 40            21\n",
      "60               170           13.0                  9             7\n",
      "54               600           25.0                 80            19\n",
      "9                320           16.0                 36             8\n",
      "\n",
      "Subset 2:\n",
      "     Calories (kcal)  Total Fat (g)  Carbohydrates (g)   Protein (g)\n",
      "59               470           29.0                 29            21\n",
      "49               200            8.0                 28             6\n",
      "19               360           23.0                 36             2\n",
      "109              190           18.0                  6             7\n",
      "73               460           22.0                 45            20\n",
      "36               480           27.0                 56             5\n",
      "79               180            9.0                 23             2\n",
      "82               280           13.0                 18            18\n",
      "89               410           18.0                 43            21\n",
      "37               360           21.0                 36             8\n",
      "15               490           24.0                 64             6\n",
      "11               310           15.0                 42             4\n",
      "76               360           12.0                 42            24\n",
      "85               320           17.0                 28            14\n",
      "30               250           14.0                 29             3\n",
      "94               290           10.0                 33            19\n",
      "86               220            2.5                 43             5\n",
      "0                300            5.0                 50            12\n",
      "23               490           28.0                 55             7\n",
      "98               470           25.0                 35            21\n",
      "71               420           16.0                 49            22\n",
      "10               170            5.0                 30             2\n",
      "5                380           16.0                 53             6\n",
      "75               520           26.0                 53            20\n",
      "51               360           18.0                 45             3\n",
      "74               460           24.0                 40            23\n",
      "18               390           16.0                 57             5\n",
      "78               160            8.0                 23             2\n",
      "\n",
      "Subset 3:\n",
      "     Calories (kcal)  Total Fat (g)  Carbohydrates (g)   Protein (g)\n",
      "47               330            6.0                 57            12\n",
      "81               370           19.0                 32            18\n",
      "67               350           18.0                 31            16\n",
      "83               160            2.5                 28             5\n",
      "108              180           14.0                 12             4\n",
      "96               420           17.0                 42            27\n",
      "88               500           28.0                 41            15\n",
      "80               180            9.0                 24             1\n",
      "107              240            2.5                 42            14\n",
      "111               90            8.0                  5             1\n",
      "25               100            3.5                 14             3\n",
      "91               310           22.0                  9            19\n",
      "99               480           27.0                 42            16\n",
      "46               330           17.0                 44             2\n",
      "26               290            3.5                 53            11\n",
      "64               440           26.0                 44            10\n",
      "6                420           17.0                 61             5\n",
      "42               420           17.0                 61             6\n",
      "48               180            9.0                 23             2\n",
      "69               560           29.0                 53            24\n",
      "16               390           15.0                 56             8\n",
      "4                420           22.0                 52             6\n",
      "62               300            8.0                 43            19\n",
      "43               360           18.0                 45             3\n",
      "112               90            0.0                 24             1\n",
      "90               450           23.0                 42            24\n",
      "52               390           21.0                 45             6\n",
      "24               440           23.0                 54             5\n",
      "\n",
      "Subset 4:\n",
      "     Calories (kcal)  Total Fat (g)  Carbohydrates (g)   Protein (g)\n",
      "100              480           17.0                 57            23\n",
      "63               360            7.0                 52            22\n",
      "27                90            3.0                 14             1\n",
      "104              460           21.0                 31            29\n",
      "65               600           32.0                 47            32\n",
      "34               290           12.0                 40             5\n",
      "56               360           18.0                 33            17\n",
      "33               350            4.0                 64            17\n",
      "44               370            9.0                 67             5\n",
      "53               270           14.0                 27            10\n",
      "8                350           22.0                 38             2\n",
      "3                460           23.0                 56             7\n",
      "110              340           13.0                 38            18\n",
      "40               280            1.5                 56             9\n",
      "70               570           23.0                 67            27\n",
      "7                240           12.0                 28             5\n",
      "28               200            8.0                 30             6\n",
      "58               430           23.0                 34            21\n",
      "22               410           24.0                 46             6\n",
      "102              650           29.0                 80            23\n",
      "87               230            6.0                 28            16\n",
      "13               330           18.0                 38             6\n",
      "101              480           20.0                 49            22\n",
      "39               120            4.5                 18             2\n",
      "106              240            2.5                 39            14\n",
      "61               620           37.0                 62            13\n",
      "41               410           15.0                 63             6\n",
      "103              420           18.0                 47            11\n"
     ]
    }
   ],
   "source": [
    "new_num_rows, num_new_columns = df_new.shape\n",
    "sample = int(new_num_rows * 0.25)\n",
    "subset = []\n",
    "original = df_new.copy()\n",
    "for i in range(4):\n",
    "    sampled_subset = original.sample(sample, replace=False)\n",
    "    subset.append(sampled_subset)\n",
    "    original = original[~original.index.isin(sampled_subset.index)]\n",
    "subset_1, subset_2, subset_3, subset_4 = subset\n",
    "print(\"Subset 1:\")\n",
    "print(subset_1)\n",
    "print(\"\\nSubset 2:\")\n",
    "print(subset_2)\n",
    "print(\"\\nSubset 3:\")\n",
    "print(subset_3)\n",
    "print(\"\\nSubset 4:\")\n",
    "print(subset_4)\n",
    "    "
   ]
  },
  {
   "cell_type": "markdown",
   "metadata": {},
   "source": [
    "In the response above, I took refernce from 'numpy.org', 'pandas.pydata.org', some YouTube videos, and some AI tools"
   ]
  },
  {
   "cell_type": "code",
   "execution_count": 77,
   "metadata": {},
   "outputs": [
    {
     "data": {
      "text/plain": [
       "(array([0., 0., 0., 0., 0., 0., 0., 0., 0., 0., 1., 0., 0., 0., 0., 0., 0.,\n",
       "        0., 0., 0.]),\n",
       " array([0.5 , 0.55, 0.6 , 0.65, 0.7 , 0.75, 0.8 , 0.85, 0.9 , 0.95, 1.  ,\n",
       "        1.05, 1.1 , 1.15, 1.2 , 1.25, 1.3 , 1.35, 1.4 , 1.45, 1.5 ]),\n",
       " <BarContainer object of 20 artists>)"
      ]
     },
     "execution_count": 77,
     "metadata": {},
     "output_type": "execute_result"
    },
    {
     "data": {
      "image/png": "[encoded data removed]",
      "text/plain": [
       "<Figure size 640x480 with 1 Axes>"
      ]
     },
     "metadata": {},
     "output_type": "display_data"
    }
   ],
   "source": [
    "plt.hist(df.columns[4],   bins=20)\n",
    "plt.hist(df.columns[5], bins=20)"
   ]
  },
  {
   "cell_type": "code",
   "execution_count": 78,
   "metadata": {},
   "outputs": [
    {
     "data": {
      "text/plain": [
       "<Axes: >"
      ]
     },
     "execution_count": 78,
     "metadata": {},
     "output_type": "execute_result"
    },
    {
     "data": {
      "image/png": "[encoded data removed]",
      "text/plain": [
       "<Figure size 640x480 with 1 Axes>"
      ]
     },
     "metadata": {},
     "output_type": "display_data"
    }
   ],
   "source": [
    "sns.boxplot(df.columns[4])\n",
    "sns.boxplot(df.columns[5])"
   ]
  }
 ],
 "metadata": {
  "kernelspec": {
   "display_name": "data-science",
   "language": "python",
   "name": "python3"
  },
  "language_info": {
   "codemirror_mode": {
    "name": "ipython",
    "version": 3
   },
   "file_extension": ".py",
   "mimetype": "text/x-python",
   "name": "python",
   "nbconvert_exporter": "python",
   "pygments_lexer": "ipython3",
   "version": "3.9.18"
  }
 },
 "nbformat": 4,
 "nbformat_minor": 2
}
